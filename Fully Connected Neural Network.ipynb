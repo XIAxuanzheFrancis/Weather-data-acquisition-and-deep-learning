{
  "nbformat": 4,
  "nbformat_minor": 0,
  "metadata": {
    "colab": {
      "provenance": [],
      "gpuType": "T4"
    },
    "kernelspec": {
      "name": "python3",
      "display_name": "Python 3"
    },
    "language_info": {
      "name": "python"
    },
    "accelerator": "GPU"
  },
  "cells": [
    {
      "cell_type": "code",
      "source": [
        "from google.colab import drive\n",
        "drive.mount('/content/drive')"
      ],
      "metadata": {
        "colab": {
          "base_uri": "https://localhost:8080/"
        },
        "id": "1noKAnNfNvIk",
        "outputId": "ab079b42-2c2c-4082-ea07-5b60f1e5e79b"
      },
      "execution_count": null,
      "outputs": [
        {
          "output_type": "stream",
          "name": "stdout",
          "text": [
            "Mounted at /content/drive\n"
          ]
        }
      ]
    },
    {
      "cell_type": "markdown",
      "source": [
        "Fusion de données"
      ],
      "metadata": {
        "id": "rV2SbldyWkMP"
      }
    },
    {
      "cell_type": "code",
      "source": [
        "import pandas as pd\n",
        "\n",
        "air_pollution_data = pd.read_csv('drive/MyDrive/stageUGE/air_pollution_data.csv')\n",
        "weather_data = pd.read_csv('drive/MyDrive/stageUGE/weather_data.csv')\n",
        "\n",
        "merged_data = pd.merge(air_pollution_data, weather_data, on='date')\n",
        "print(\"Nombre de échantillons\", merged_data.shape[0])\n"
      ],
      "metadata": {
        "colab": {
          "base_uri": "https://localhost:8080/"
        },
        "id": "HHeYNIcLN6I7",
        "outputId": "c57286ac-2cd1-4afd-a4c7-a618ed3f2092"
      },
      "execution_count": null,
      "outputs": [
        {
          "output_type": "stream",
          "name": "stdout",
          "text": [
            "Nombre de échantillons 31\n"
          ]
        }
      ]
    },
    {
      "cell_type": "code",
      "source": [
        "import pandas as pd\n",
        "from sklearn.model_selection import train_test_split\n",
        "from sklearn.preprocessing import StandardScaler\n",
        "from keras.models import Sequential\n",
        "from keras.layers import Dense"
      ],
      "metadata": {
        "id": "LtDrXjtDLk8R"
      },
      "execution_count": null,
      "outputs": []
    },
    {
      "cell_type": "markdown",
      "source": [
        "divisé par deux set(training set and test set)"
      ],
      "metadata": {
        "id": "gSOp38dpO_zI"
      }
    },
    {
      "cell_type": "code",
      "source": [
        "X = merged_data[['temperature', 'wind_speed', 'humidity']]\n",
        "y = merged_data['AQI']\n",
        "\n",
        "X_train, X_test, y_train, y_test = train_test_split(X, y, test_size=0.2, random_state=42)"
      ],
      "metadata": {
        "id": "zAgZKKfzOhTZ"
      },
      "execution_count": null,
      "outputs": []
    },
    {
      "cell_type": "markdown",
      "source": [
        "Normaliser les données"
      ],
      "metadata": {
        "id": "oGL9pzTxPdqx"
      }
    },
    {
      "cell_type": "code",
      "source": [
        "scaler = StandardScaler()\n",
        "X_train_scaled = scaler.fit_transform(X_train)\n",
        "X_test_scaled = scaler.transform(X_test)"
      ],
      "metadata": {
        "id": "S7mN8dCaPfiB"
      },
      "execution_count": null,
      "outputs": []
    },
    {
      "cell_type": "markdown",
      "source": [
        "Construction du modèle(Fully Connected Neural Network)"
      ],
      "metadata": {
        "id": "zAwHcgj2Puzo"
      }
    },
    {
      "cell_type": "code",
      "source": [
        "model = Sequential()\n",
        "\n",
        "model.add(Dense(64, activation='relu',input_shape=(X_train_scaled.shape[1],)))\n",
        "model.add(Dense(32, activation='relu'))\n",
        "model.add(Dense(16, activation='relu'))\n",
        "model.add(Dense(8, activation='relu'))\n",
        "model.add(Dense(1, activation='linear'))\n",
        "\n",
        "model.compile(optimizer='adam', loss='mean_squared_error', metrics=['mse'])\n",
        "model.summary()"
      ],
      "metadata": {
        "colab": {
          "base_uri": "https://localhost:8080/"
        },
        "id": "85G_6_9NPy44",
        "outputId": "905b0000-10eb-4cb2-dfab-afb29b983be2"
      },
      "execution_count": null,
      "outputs": [
        {
          "output_type": "stream",
          "name": "stdout",
          "text": [
            "Model: \"sequential\"\n",
            "_________________________________________________________________\n",
            " Layer (type)                Output Shape              Param #   \n",
            "=================================================================\n",
            " dense (Dense)               (None, 64)                256       \n",
            "                                                                 \n",
            " dense_1 (Dense)             (None, 32)                2080      \n",
            "                                                                 \n",
            " dense_2 (Dense)             (None, 16)                528       \n",
            "                                                                 \n",
            " dense_3 (Dense)             (None, 8)                 136       \n",
            "                                                                 \n",
            " dense_4 (Dense)             (None, 1)                 9         \n",
            "                                                                 \n",
            "=================================================================\n",
            "Total params: 3009 (11.75 KB)\n",
            "Trainable params: 3009 (11.75 KB)\n",
            "Non-trainable params: 0 (0.00 Byte)\n",
            "_________________________________________________________________\n"
          ]
        }
      ]
    },
    {
      "cell_type": "code",
      "source": [
        "history = model.fit(X_train_scaled, y_train, epochs=50, batch_size=2, validation_split=0.2)\n",
        "\n",
        "loss, mse = model.evaluate(X_test_scaled, y_test)"
      ],
      "metadata": {
        "colab": {
          "base_uri": "https://localhost:8080/"
        },
        "id": "uD2VRiJCKaTT",
        "outputId": "c159e81f-c6cb-44fe-f678-51b7f567f812"
      },
      "execution_count": null,
      "outputs": [
        {
          "output_type": "stream",
          "name": "stdout",
          "text": [
            "Epoch 1/50\n",
            "10/10 [==============================] - 3s 74ms/step - loss: 3.3893 - mse: 3.3893 - val_loss: 4.7298 - val_mse: 4.7298\n",
            "Epoch 2/50\n",
            "10/10 [==============================] - 0s 12ms/step - loss: 2.9664 - mse: 2.9664 - val_loss: 4.1914 - val_mse: 4.1914\n",
            "Epoch 3/50\n",
            "10/10 [==============================] - 0s 12ms/step - loss: 2.5037 - mse: 2.5037 - val_loss: 3.5284 - val_mse: 3.5284\n",
            "Epoch 4/50\n",
            "10/10 [==============================] - 0s 10ms/step - loss: 1.9530 - mse: 1.9530 - val_loss: 2.7688 - val_mse: 2.7688\n",
            "Epoch 5/50\n",
            "10/10 [==============================] - 0s 22ms/step - loss: 1.3858 - mse: 1.3858 - val_loss: 1.9396 - val_mse: 1.9396\n",
            "Epoch 6/50\n",
            "10/10 [==============================] - 0s 10ms/step - loss: 0.8142 - mse: 0.8142 - val_loss: 1.1793 - val_mse: 1.1793\n",
            "Epoch 7/50\n",
            "10/10 [==============================] - 0s 20ms/step - loss: 0.3895 - mse: 0.3895 - val_loss: 0.7568 - val_mse: 0.7568\n",
            "Epoch 8/50\n",
            "10/10 [==============================] - 0s 19ms/step - loss: 0.2800 - mse: 0.2800 - val_loss: 0.6217 - val_mse: 0.6217\n",
            "Epoch 9/50\n",
            "10/10 [==============================] - 0s 16ms/step - loss: 0.2644 - mse: 0.2644 - val_loss: 0.6278 - val_mse: 0.6278\n",
            "Epoch 10/50\n",
            "10/10 [==============================] - 0s 14ms/step - loss: 0.2528 - mse: 0.2528 - val_loss: 0.6382 - val_mse: 0.6382\n",
            "Epoch 11/50\n",
            "10/10 [==============================] - 0s 12ms/step - loss: 0.2515 - mse: 0.2515 - val_loss: 0.6537 - val_mse: 0.6537\n",
            "Epoch 12/50\n",
            "10/10 [==============================] - 0s 27ms/step - loss: 0.2529 - mse: 0.2529 - val_loss: 0.6505 - val_mse: 0.6505\n",
            "Epoch 13/50\n",
            "10/10 [==============================] - 0s 26ms/step - loss: 0.2556 - mse: 0.2556 - val_loss: 0.6337 - val_mse: 0.6337\n",
            "Epoch 14/50\n",
            "10/10 [==============================] - 0s 15ms/step - loss: 0.2454 - mse: 0.2454 - val_loss: 0.6295 - val_mse: 0.6295\n",
            "Epoch 15/50\n",
            "10/10 [==============================] - 0s 12ms/step - loss: 0.2528 - mse: 0.2528 - val_loss: 0.6488 - val_mse: 0.6488\n",
            "Epoch 16/50\n",
            "10/10 [==============================] - 0s 11ms/step - loss: 0.2580 - mse: 0.2580 - val_loss: 0.6194 - val_mse: 0.6194\n",
            "Epoch 17/50\n",
            "10/10 [==============================] - 0s 10ms/step - loss: 0.2442 - mse: 0.2442 - val_loss: 0.6389 - val_mse: 0.6389\n",
            "Epoch 18/50\n",
            "10/10 [==============================] - 0s 14ms/step - loss: 0.2482 - mse: 0.2482 - val_loss: 0.6705 - val_mse: 0.6705\n",
            "Epoch 19/50\n",
            "10/10 [==============================] - 0s 14ms/step - loss: 0.2513 - mse: 0.2513 - val_loss: 0.6471 - val_mse: 0.6471\n",
            "Epoch 20/50\n",
            "10/10 [==============================] - 0s 13ms/step - loss: 0.2576 - mse: 0.2576 - val_loss: 0.6251 - val_mse: 0.6251\n",
            "Epoch 21/50\n",
            "10/10 [==============================] - 0s 10ms/step - loss: 0.2461 - mse: 0.2461 - val_loss: 0.6319 - val_mse: 0.6319\n",
            "Epoch 22/50\n",
            "10/10 [==============================] - 0s 10ms/step - loss: 0.2500 - mse: 0.2500 - val_loss: 0.6451 - val_mse: 0.6451\n",
            "Epoch 23/50\n",
            "10/10 [==============================] - 0s 20ms/step - loss: 0.2483 - mse: 0.2483 - val_loss: 0.6456 - val_mse: 0.6456\n",
            "Epoch 24/50\n",
            "10/10 [==============================] - 0s 20ms/step - loss: 0.2484 - mse: 0.2484 - val_loss: 0.6367 - val_mse: 0.6367\n",
            "Epoch 25/50\n",
            "10/10 [==============================] - 0s 13ms/step - loss: 0.2532 - mse: 0.2532 - val_loss: 0.6303 - val_mse: 0.6303\n",
            "Epoch 26/50\n",
            "10/10 [==============================] - 0s 18ms/step - loss: 0.2490 - mse: 0.2490 - val_loss: 0.6483 - val_mse: 0.6483\n",
            "Epoch 27/50\n",
            "10/10 [==============================] - 0s 11ms/step - loss: 0.2481 - mse: 0.2481 - val_loss: 0.6520 - val_mse: 0.6520\n",
            "Epoch 28/50\n",
            "10/10 [==============================] - 0s 25ms/step - loss: 0.2461 - mse: 0.2461 - val_loss: 0.6383 - val_mse: 0.6383\n",
            "Epoch 29/50\n",
            "10/10 [==============================] - 0s 23ms/step - loss: 0.2531 - mse: 0.2531 - val_loss: 0.6267 - val_mse: 0.6267\n",
            "Epoch 30/50\n",
            "10/10 [==============================] - 0s 30ms/step - loss: 0.2503 - mse: 0.2503 - val_loss: 0.6263 - val_mse: 0.6263\n",
            "Epoch 31/50\n",
            "10/10 [==============================] - 0s 9ms/step - loss: 0.2539 - mse: 0.2539 - val_loss: 0.6718 - val_mse: 0.6718\n",
            "Epoch 32/50\n",
            "10/10 [==============================] - 0s 20ms/step - loss: 0.2517 - mse: 0.2517 - val_loss: 0.6527 - val_mse: 0.6527\n",
            "Epoch 33/50\n",
            "10/10 [==============================] - 0s 14ms/step - loss: 0.2572 - mse: 0.2572 - val_loss: 0.6189 - val_mse: 0.6189\n",
            "Epoch 34/50\n",
            "10/10 [==============================] - 0s 17ms/step - loss: 0.2591 - mse: 0.2591 - val_loss: 0.6108 - val_mse: 0.6108\n",
            "Epoch 35/50\n",
            "10/10 [==============================] - 0s 15ms/step - loss: 0.2462 - mse: 0.2462 - val_loss: 0.6490 - val_mse: 0.6490\n",
            "Epoch 36/50\n",
            "10/10 [==============================] - 0s 18ms/step - loss: 0.2491 - mse: 0.2491 - val_loss: 0.6624 - val_mse: 0.6624\n",
            "Epoch 37/50\n",
            "10/10 [==============================] - 0s 27ms/step - loss: 0.2504 - mse: 0.2504 - val_loss: 0.6476 - val_mse: 0.6476\n",
            "Epoch 38/50\n",
            "10/10 [==============================] - 0s 10ms/step - loss: 0.2480 - mse: 0.2480 - val_loss: 0.6398 - val_mse: 0.6398\n",
            "Epoch 39/50\n",
            "10/10 [==============================] - 0s 26ms/step - loss: 0.2659 - mse: 0.2659 - val_loss: 0.6113 - val_mse: 0.6113\n",
            "Epoch 40/50\n",
            "10/10 [==============================] - 0s 18ms/step - loss: 0.2537 - mse: 0.2537 - val_loss: 0.6307 - val_mse: 0.6307\n",
            "Epoch 41/50\n",
            "10/10 [==============================] - 0s 18ms/step - loss: 0.2515 - mse: 0.2515 - val_loss: 0.6410 - val_mse: 0.6410\n",
            "Epoch 42/50\n",
            "10/10 [==============================] - 0s 32ms/step - loss: 0.2633 - mse: 0.2633 - val_loss: 0.6232 - val_mse: 0.6232\n",
            "Epoch 43/50\n",
            "10/10 [==============================] - 0s 37ms/step - loss: 0.2477 - mse: 0.2477 - val_loss: 0.6440 - val_mse: 0.6440\n",
            "Epoch 44/50\n",
            "10/10 [==============================] - 0s 13ms/step - loss: 0.2546 - mse: 0.2546 - val_loss: 0.6463 - val_mse: 0.6463\n",
            "Epoch 45/50\n",
            "10/10 [==============================] - 0s 8ms/step - loss: 0.2505 - mse: 0.2505 - val_loss: 0.6377 - val_mse: 0.6377\n",
            "Epoch 46/50\n",
            "10/10 [==============================] - 0s 9ms/step - loss: 0.2534 - mse: 0.2534 - val_loss: 0.6541 - val_mse: 0.6541\n",
            "Epoch 47/50\n",
            "10/10 [==============================] - 0s 9ms/step - loss: 0.2566 - mse: 0.2566 - val_loss: 0.6410 - val_mse: 0.6410\n",
            "Epoch 48/50\n",
            "10/10 [==============================] - 0s 9ms/step - loss: 0.2501 - mse: 0.2501 - val_loss: 0.6476 - val_mse: 0.6476\n",
            "Epoch 49/50\n",
            "10/10 [==============================] - 0s 8ms/step - loss: 0.2535 - mse: 0.2535 - val_loss: 0.6638 - val_mse: 0.6638\n",
            "Epoch 50/50\n",
            "10/10 [==============================] - 0s 9ms/step - loss: 0.2525 - mse: 0.2525 - val_loss: 0.6458 - val_mse: 0.6458\n",
            "1/1 [==============================] - 0s 34ms/step - loss: 0.2131 - mse: 0.2131\n"
          ]
        }
      ]
    }
  ]
}